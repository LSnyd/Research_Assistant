{
 "cells": [
  {
   "cell_type": "code",
   "execution_count": 1,
   "metadata": {},
   "outputs": [
    {
     "name": "stderr",
     "output_type": "stream",
     "text": [
      "/home/lisa/miniconda3/envs/tensorboard/lib/python3.9/site-packages/tqdm/auto.py:21: TqdmWarning: IProgress not found. Please update jupyter and ipywidgets. See https://ipywidgets.readthedocs.io/en/stable/user_install.html\n",
      "  from .autonotebook import tqdm as notebook_tqdm\n"
     ]
    }
   ],
   "source": [
    "from transformers import  GPT2Tokenizer, GPT2LMHeadModel\n",
    "import torch"
   ]
  },
  {
   "cell_type": "code",
   "execution_count": 2,
   "metadata": {},
   "outputs": [],
   "source": [
    "from transformers import  GPT2Tokenizer, GPT2LMHeadModel\n",
    "import torch"
   ]
  },
  {
   "cell_type": "code",
   "execution_count": 11,
   "metadata": {},
   "outputs": [
    {
     "name": "stderr",
     "output_type": "stream",
     "text": [
      "Setting `pad_token_id` to `eos_token_id`:50256 for open-end generation.\n"
     ]
    },
    {
     "name": "stdout",
     "output_type": "stream",
     "text": [
      "0: Hello. What is your favorite recipe? How did you guys feel when it came to this one or any of the other recipes I mentioned above?\"\n",
      "I had tried most food that was made from plants such as basil and ginger, but they all were just too similar for me so after reading a few reviews about them in my own personal experience with making these pasta dishes (they are literally nothing more than what would normally be used) we decided on giving each dish some time before eating our meal together because even though everything seemed different over being using foods straight out-of–the—pasta kitchen can do things like make soup instead which isn't something new at Allianz restaurant here. So now there's an opportunity …..when kids start thinking 'what does Itall look LIKE?' Here ya go!\n",
      "\n",
      "1: Hello. What is your favorite recipe?\n",
      "That's the question I get every day and my mom (and, actually… she just told me not to give it a try). And even though this isn't about cooking but rather recipes of making chocolate chips from scratch or simply having fun with some food that really only lives on its own island in between you two – there are so many things going through her mind like \"What will we do if everyone dies?\" Even when people die they usually tell themselves how awesome their life would have been without them! So today by doing three easy baking changes for Chocolate Chip Peanut Butter Cups made out entirely around cinnamon rolls: 1) Mince breadsticks cut into small pieces 2 3/4 cups sugar  4 tablespoons all-purpose flour 8 ounces light brown rice         10 teaspoons vanilla extract    5 eggs 6 large handfuls unsalted butter\n",
      "         Mix together dry ingredients until combined; fold batter evenly down each side towards half way corner 13 ½ teaspoon\n",
      "\n",
      "2: Hello. What is your favorite recipe?\n",
      "I have the Stuffed Corn in my bf and it's super simple to make with this, but I also love making everything from a salad or into cheese fries (seriously!). In fact when you add those three ingredients together they are so easily incorporated! This gives that Brie like texture again as well: just don't over use any of them while frying if there really isn- which results...\n",
      "\n",
      "… Read more\n",
      "\n",
      "3: Hello. What is your favorite recipe?\n",
      "\"What I did was make it with a little garlic, the onions and parsley,\" recalls Mary Ann Smith of \"The Cauliflower Girl.\" The girl who created this vegan version has been making her own for years! That's right: Makeoulée—the same stuff you'll get at Auntie May on Thanksgiving Day 2018 in our featured post-purchase contest (see below) but without any ingredients from animal products or dairy farmers!!! A great way to be safe over cheese because that seems like more about keeping things simple than getting all those fancy food items out there we've missed so much already :) Also check back often when new recipes are posted here as they may contain affiliate links\n",
      "\n",
      "4: Hello. What is your favorite recipe?\n",
      "[Laughter.] It's great and delicious, but it didn't come from the real world (as you say). I got a copy of some recipes when they were first released in my cookbook 'The Art and Science'…and that was probably 2000 years ago!\n",
      "\n"
     ]
    }
   ],
   "source": [
    "\n",
    "\n",
    "# take user input\n",
    "text = \"Hello. What is your favorite recipe?\"\n",
    "\n",
    "# encode the input and add end of string token\n",
    "input_ids = tokenizer([text], return_tensors=\"pt\").to(device)\n",
    "\n",
    "# generate a bot response\n",
    "response = model.generate(\n",
    "    **input_ids,\n",
    "    max_length= 200,  \n",
    "    num_return_sequences= 5,\n",
    "    no_repeat_ngram_size= 2,\n",
    "    repetition_penalty= 2.5,\n",
    "    top_p= 0.92,\n",
    "    temperature= .85,\n",
    "    do_sample= True,\n",
    "    top_k= 125,\n",
    "    early_stopping= True\n",
    ")\n",
    "\n",
    "for i, pred in enumerate(response):\n",
    "    print(f\"{i}: {tokenizer.decode(pred, skip_special_tokens=True)}\")\n",
    "    print()\n"
   ]
  }
 ],
 "metadata": {
  "kernelspec": {
   "display_name": "tensorboard",
   "language": "python",
   "name": "python3"
  },
  "language_info": {
   "codemirror_mode": {
    "name": "ipython",
    "version": 3
   },
   "file_extension": ".py",
   "mimetype": "text/x-python",
   "name": "python",
   "nbconvert_exporter": "python",
   "pygments_lexer": "ipython3",
   "version": "3.9.1"
  },
  "orig_nbformat": 4,
  "vscode": {
   "interpreter": {
    "hash": "a44a7dfa71ff121c1b32add23bf472096244eb5361d8ac3b61007c87c3bb2ea6"
   }
  }
 },
 "nbformat": 4,
 "nbformat_minor": 2
}
